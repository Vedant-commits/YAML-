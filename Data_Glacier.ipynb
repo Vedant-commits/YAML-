{
 "cells": [
  {
   "cell_type": "code",
   "execution_count": 1,
   "id": "f939752e-d717-4ac6-ac7c-acf9cd04aa15",
   "metadata": {},
   "outputs": [],
   "source": [
    "import dask.dataframe as dd"
   ]
  },
  {
   "cell_type": "code",
   "execution_count": 2,
   "id": "e35ad1a2-ea97-4333-aee9-aa1d084c6784",
   "metadata": {},
   "outputs": [],
   "source": [
    "import os\n",
    "import pandas as pd"
   ]
  },
  {
   "cell_type": "code",
   "execution_count": 3,
   "id": "767e0c44-678f-438a-8bd7-4bf4a8b1fd5a",
   "metadata": {},
   "outputs": [],
   "source": [
    "directory = '/Users/vedantpramodwagh/Documents/DataGlacier/hg'"
   ]
  },
  {
   "cell_type": "code",
   "execution_count": 4,
   "id": "1d81274d-3694-421e-bbfe-3b3c0711482d",
   "metadata": {},
   "outputs": [],
   "source": [
    "file_path = [os.path.join(directory, f) for f in os.listdir(directory) if f.endswith('.csv')]"
   ]
  },
  {
   "cell_type": "code",
   "execution_count": 5,
   "id": "e9471cc0-7edc-4d36-96f5-f3349b35a46d",
   "metadata": {},
   "outputs": [
    {
     "name": "stdout",
     "output_type": "stream",
     "text": [
      "Pandas Time is : 290.31349992752075\n"
     ]
    }
   ],
   "source": [
    "#read the dataset and time by using pandas\n",
    "import time\n",
    "start_time = time.time()\n",
    "df_pandas = pd.concat([pd.read_csv(g) for g in file_path])\n",
    "pandas_time = time.time() - start_time\n",
    "print('Pandas Time is :', pandas_time)"
   ]
  },
  {
   "cell_type": "code",
   "execution_count": 6,
   "id": "53e557de-232b-4630-b736-0e8db57f9661",
   "metadata": {},
   "outputs": [
    {
     "name": "stdout",
     "output_type": "stream",
     "text": [
      "Dask Time is : 306.99456787109375\n"
     ]
    }
   ],
   "source": [
    "# read the file by using dask\n",
    "start1_time = time.time()\n",
    "df_dask = dd.read_csv(file_path)\n",
    "dask_time = time.time() - start_time\n",
    "print('Dask Time is :', dask_time)"
   ]
  },
  {
   "cell_type": "code",
   "execution_count": 7,
   "id": "d4bddd2f-18c2-4072-9b80-95fe6c23c5bb",
   "metadata": {},
   "outputs": [
    {
     "data": {
      "text/html": [
       "<div>\n",
       "<style scoped>\n",
       "    .dataframe tbody tr th:only-of-type {\n",
       "        vertical-align: middle;\n",
       "    }\n",
       "\n",
       "    .dataframe tbody tr th {\n",
       "        vertical-align: top;\n",
       "    }\n",
       "\n",
       "    .dataframe thead th {\n",
       "        text-align: right;\n",
       "    }\n",
       "</style>\n",
       "<table border=\"1\" class=\"dataframe\">\n",
       "  <thead>\n",
       "    <tr style=\"text-align: right;\">\n",
       "      <th></th>\n",
       "      <th>date</th>\n",
       "      <th>open</th>\n",
       "      <th>high</th>\n",
       "      <th>low</th>\n",
       "      <th>close</th>\n",
       "      <th>volume</th>\n",
       "      <th>sma5</th>\n",
       "      <th>sma10</th>\n",
       "      <th>sma15</th>\n",
       "      <th>sma20</th>\n",
       "      <th>...</th>\n",
       "      <th>fastd</th>\n",
       "      <th>fastksr</th>\n",
       "      <th>fastdsr</th>\n",
       "      <th>ULTOSC</th>\n",
       "      <th>WILLR</th>\n",
       "      <th>ATR</th>\n",
       "      <th>Trange</th>\n",
       "      <th>TYPPRICE</th>\n",
       "      <th>HT_DCPERIOD</th>\n",
       "      <th>BETA</th>\n",
       "    </tr>\n",
       "  </thead>\n",
       "  <tbody>\n",
       "    <tr>\n",
       "      <th>0</th>\n",
       "      <td>2015-02-02 14:30:00+05:30</td>\n",
       "      <td>248.10</td>\n",
       "      <td>248.35</td>\n",
       "      <td>247.50</td>\n",
       "      <td>247.55</td>\n",
       "      <td>11152</td>\n",
       "      <td>249.05</td>\n",
       "      <td>249.460</td>\n",
       "      <td>248.896667</td>\n",
       "      <td>247.9925</td>\n",
       "      <td>...</td>\n",
       "      <td>6.338384</td>\n",
       "      <td>0.000000</td>\n",
       "      <td>0.000000</td>\n",
       "      <td>44.467989</td>\n",
       "      <td>-69.892473</td>\n",
       "      <td>0.845534</td>\n",
       "      <td>1.00</td>\n",
       "      <td>247.800000</td>\n",
       "      <td>30.172109</td>\n",
       "      <td>0.505531</td>\n",
       "    </tr>\n",
       "    <tr>\n",
       "      <th>1</th>\n",
       "      <td>2015-02-02 14:35:00+05:30</td>\n",
       "      <td>247.55</td>\n",
       "      <td>247.55</td>\n",
       "      <td>245.75</td>\n",
       "      <td>246.55</td>\n",
       "      <td>13642</td>\n",
       "      <td>248.36</td>\n",
       "      <td>249.175</td>\n",
       "      <td>248.903333</td>\n",
       "      <td>248.0700</td>\n",
       "      <td>...</td>\n",
       "      <td>7.628706</td>\n",
       "      <td>0.000000</td>\n",
       "      <td>0.000000</td>\n",
       "      <td>40.887220</td>\n",
       "      <td>-84.158416</td>\n",
       "      <td>0.913710</td>\n",
       "      <td>1.80</td>\n",
       "      <td>246.616667</td>\n",
       "      <td>29.482527</td>\n",
       "      <td>0.844017</td>\n",
       "    </tr>\n",
       "    <tr>\n",
       "      <th>2</th>\n",
       "      <td>2015-02-02 14:40:00+05:30</td>\n",
       "      <td>246.55</td>\n",
       "      <td>247.35</td>\n",
       "      <td>246.45</td>\n",
       "      <td>246.70</td>\n",
       "      <td>10313</td>\n",
       "      <td>247.76</td>\n",
       "      <td>248.885</td>\n",
       "      <td>248.906667</td>\n",
       "      <td>248.1575</td>\n",
       "      <td>...</td>\n",
       "      <td>13.870340</td>\n",
       "      <td>5.241393</td>\n",
       "      <td>1.747131</td>\n",
       "      <td>36.785802</td>\n",
       "      <td>-81.188119</td>\n",
       "      <td>0.912731</td>\n",
       "      <td>0.90</td>\n",
       "      <td>246.833333</td>\n",
       "      <td>28.732223</td>\n",
       "      <td>1.659809</td>\n",
       "    </tr>\n",
       "    <tr>\n",
       "      <th>3</th>\n",
       "      <td>2015-02-02 14:45:00+05:30</td>\n",
       "      <td>246.70</td>\n",
       "      <td>247.30</td>\n",
       "      <td>246.60</td>\n",
       "      <td>247.30</td>\n",
       "      <td>9916</td>\n",
       "      <td>247.32</td>\n",
       "      <td>248.670</td>\n",
       "      <td>248.920000</td>\n",
       "      <td>248.2525</td>\n",
       "      <td>...</td>\n",
       "      <td>27.143067</td>\n",
       "      <td>43.241647</td>\n",
       "      <td>16.161013</td>\n",
       "      <td>39.861978</td>\n",
       "      <td>-69.306931</td>\n",
       "      <td>0.897536</td>\n",
       "      <td>0.70</td>\n",
       "      <td>247.066667</td>\n",
       "      <td>28.438460</td>\n",
       "      <td>1.543580</td>\n",
       "    </tr>\n",
       "    <tr>\n",
       "      <th>4</th>\n",
       "      <td>2015-02-02 14:50:00+05:30</td>\n",
       "      <td>247.25</td>\n",
       "      <td>247.75</td>\n",
       "      <td>246.60</td>\n",
       "      <td>247.75</td>\n",
       "      <td>16525</td>\n",
       "      <td>247.17</td>\n",
       "      <td>248.430</td>\n",
       "      <td>248.770000</td>\n",
       "      <td>248.3575</td>\n",
       "      <td>...</td>\n",
       "      <td>47.049326</td>\n",
       "      <td>100.000000</td>\n",
       "      <td>49.494347</td>\n",
       "      <td>49.425751</td>\n",
       "      <td>-60.396040</td>\n",
       "      <td>0.915569</td>\n",
       "      <td>1.15</td>\n",
       "      <td>247.366667</td>\n",
       "      <td>28.558616</td>\n",
       "      <td>1.043581</td>\n",
       "    </tr>\n",
       "  </tbody>\n",
       "</table>\n",
       "<p>5 rows × 59 columns</p>\n",
       "</div>"
      ],
      "text/plain": [
       "                        date    open    high     low   close  volume    sma5  \\\n",
       "0  2015-02-02 14:30:00+05:30  248.10  248.35  247.50  247.55   11152  249.05   \n",
       "1  2015-02-02 14:35:00+05:30  247.55  247.55  245.75  246.55   13642  248.36   \n",
       "2  2015-02-02 14:40:00+05:30  246.55  247.35  246.45  246.70   10313  247.76   \n",
       "3  2015-02-02 14:45:00+05:30  246.70  247.30  246.60  247.30    9916  247.32   \n",
       "4  2015-02-02 14:50:00+05:30  247.25  247.75  246.60  247.75   16525  247.17   \n",
       "\n",
       "     sma10       sma15     sma20  ...      fastd     fastksr    fastdsr  \\\n",
       "0  249.460  248.896667  247.9925  ...   6.338384    0.000000   0.000000   \n",
       "1  249.175  248.903333  248.0700  ...   7.628706    0.000000   0.000000   \n",
       "2  248.885  248.906667  248.1575  ...  13.870340    5.241393   1.747131   \n",
       "3  248.670  248.920000  248.2525  ...  27.143067   43.241647  16.161013   \n",
       "4  248.430  248.770000  248.3575  ...  47.049326  100.000000  49.494347   \n",
       "\n",
       "      ULTOSC      WILLR       ATR  Trange    TYPPRICE  HT_DCPERIOD      BETA  \n",
       "0  44.467989 -69.892473  0.845534    1.00  247.800000    30.172109  0.505531  \n",
       "1  40.887220 -84.158416  0.913710    1.80  246.616667    29.482527  0.844017  \n",
       "2  36.785802 -81.188119  0.912731    0.90  246.833333    28.732223  1.659809  \n",
       "3  39.861978 -69.306931  0.897536    0.70  247.066667    28.438460  1.543580  \n",
       "4  49.425751 -60.396040  0.915569    1.15  247.366667    28.558616  1.043581  \n",
       "\n",
       "[5 rows x 59 columns]"
      ]
     },
     "execution_count": 7,
     "metadata": {},
     "output_type": "execute_result"
    }
   ],
   "source": [
    "df_dask.head()"
   ]
  },
  {
   "cell_type": "code",
   "execution_count": 8,
   "id": "bf00651d-e0df-4050-b386-81f47d7cb364",
   "metadata": {},
   "outputs": [
    {
     "name": "stdout",
     "output_type": "stream",
     "text": [
      "zsh:1: no matches found: dask[complete]\n"
     ]
    }
   ],
   "source": [
    "!pip3 install dask[complete] modin[ray] pyyaml pandas"
   ]
  },
  {
   "cell_type": "code",
   "execution_count": 9,
   "id": "585fa190-2c69-4acc-bf8c-580bc76fbe37",
   "metadata": {},
   "outputs": [
    {
     "data": {
      "text/plain": [
       "['/Users/vedantpramodwagh/Documents/DataGlacier/hg/AMBUJACEM_with_indicators_.csv',\n",
       " '/Users/vedantpramodwagh/Documents/DataGlacier/hg/SHREECEM_with_indicators_.csv',\n",
       " '/Users/vedantpramodwagh/Documents/DataGlacier/hg/HDFC_with_indicators_.csv',\n",
       " '/Users/vedantpramodwagh/Documents/DataGlacier/hg/HINDPETRO_with_indicators_.csv',\n",
       " '/Users/vedantpramodwagh/Documents/DataGlacier/hg/IOC_with_indicators_.csv',\n",
       " '/Users/vedantpramodwagh/Documents/DataGlacier/hg/TORNTPHARM_with_indicators_.csv',\n",
       " '/Users/vedantpramodwagh/Documents/DataGlacier/hg/BANKBARODA_with_indicators_.csv',\n",
       " '/Users/vedantpramodwagh/Documents/DataGlacier/hg/INDIGO_with_indicators_.csv',\n",
       " '/Users/vedantpramodwagh/Documents/DataGlacier/hg/ACC_with_indicators_.csv',\n",
       " '/Users/vedantpramodwagh/Documents/DataGlacier/hg/IGL_with_indicators_.csv',\n",
       " '/Users/vedantpramodwagh/Documents/DataGlacier/hg/CADILAHC_with_indicators_.csv',\n",
       " '/Users/vedantpramodwagh/Documents/DataGlacier/hg/BANDHANBNK_with_indicators_.csv',\n",
       " '/Users/vedantpramodwagh/Documents/DataGlacier/hg/AUROPHARMA_with_indicators_.csv',\n",
       " '/Users/vedantpramodwagh/Documents/DataGlacier/hg/TECHM_with_indicators_.csv',\n",
       " '/Users/vedantpramodwagh/Documents/DataGlacier/hg/GRASIM_with_indicators_.csv',\n",
       " '/Users/vedantpramodwagh/Documents/DataGlacier/hg/ITC_with_indicators_.csv',\n",
       " '/Users/vedantpramodwagh/Documents/DataGlacier/hg/DMART_with_indicators_.csv',\n",
       " '/Users/vedantpramodwagh/Documents/DataGlacier/hg/JUBLFOOD_with_indicators_.csv',\n",
       " '/Users/vedantpramodwagh/Documents/DataGlacier/hg/ASIANPAINT_with_indicators_.csv',\n",
       " '/Users/vedantpramodwagh/Documents/DataGlacier/hg/MARICO_with_indicators_.csv',\n",
       " '/Users/vedantpramodwagh/Documents/DataGlacier/hg/SAIL_with_indicators_.csv',\n",
       " '/Users/vedantpramodwagh/Documents/DataGlacier/hg/ADANIPORTS_with_indicators_.csv',\n",
       " '/Users/vedantpramodwagh/Documents/DataGlacier/hg/BAJFINANCE_with_indicators_.csv',\n",
       " '/Users/vedantpramodwagh/Documents/DataGlacier/hg/COLPAL_with_indicators_.csv',\n",
       " '/Users/vedantpramodwagh/Documents/DataGlacier/hg/BERGEPAINT_with_indicators_.csv',\n",
       " '/Users/vedantpramodwagh/Documents/DataGlacier/hg/KOTAKBANK_with_indicators_.csv',\n",
       " '/Users/vedantpramodwagh/Documents/DataGlacier/hg/ICICIGI_with_indicators_.csv',\n",
       " '/Users/vedantpramodwagh/Documents/DataGlacier/hg/TATAMOTORS_with_indicators_.csv',\n",
       " '/Users/vedantpramodwagh/Documents/DataGlacier/hg/TATASTEEL_with_indicators_.csv',\n",
       " '/Users/vedantpramodwagh/Documents/DataGlacier/hg/WIPRO_with_indicators_.csv',\n",
       " '/Users/vedantpramodwagh/Documents/DataGlacier/hg/VEDL_with_indicators_.csv',\n",
       " '/Users/vedantpramodwagh/Documents/DataGlacier/hg/JINDALSTEL_with_indicators_.csv',\n",
       " '/Users/vedantpramodwagh/Documents/DataGlacier/hg/HINDALCO_with_indicators_.csv',\n",
       " '/Users/vedantpramodwagh/Documents/DataGlacier/hg/INDUSTOWER_with_indicators_.csv',\n",
       " '/Users/vedantpramodwagh/Documents/DataGlacier/hg/SIEMENS_with_indicators_.csv',\n",
       " '/Users/vedantpramodwagh/Documents/DataGlacier/hg/MARUTI_with_indicators_.csv',\n",
       " '/Users/vedantpramodwagh/Documents/DataGlacier/hg/NIFTY 50_with_indicators_.csv',\n",
       " '/Users/vedantpramodwagh/Documents/DataGlacier/hg/NESTLEIND_with_indicators_.csv',\n",
       " '/Users/vedantpramodwagh/Documents/DataGlacier/hg/SBICARD_with_indicators_.csv',\n",
       " '/Users/vedantpramodwagh/Documents/DataGlacier/hg/INDUSINDBK_with_indicators_.csv',\n",
       " '/Users/vedantpramodwagh/Documents/DataGlacier/hg/LTI_with_indicators_.csv',\n",
       " '/Users/vedantpramodwagh/Documents/DataGlacier/hg/HDFCBANK_with_indicators_.csv',\n",
       " '/Users/vedantpramodwagh/Documents/DataGlacier/hg/HEROMOTOCO_with_indicators_.csv',\n",
       " '/Users/vedantpramodwagh/Documents/DataGlacier/hg/BIOCON_with_indicators_.csv',\n",
       " '/Users/vedantpramodwagh/Documents/DataGlacier/hg/BHARTIARTL_with_indicators_.csv',\n",
       " '/Users/vedantpramodwagh/Documents/DataGlacier/hg/DABUR_with_indicators_.csv',\n",
       " '/Users/vedantpramodwagh/Documents/DataGlacier/hg/LUPIN_with_indicators_.csv',\n",
       " '/Users/vedantpramodwagh/Documents/DataGlacier/hg/PNB_with_indicators_.csv',\n",
       " '/Users/vedantpramodwagh/Documents/DataGlacier/hg/NIFTY BANK_with_indicators_.csv',\n",
       " '/Users/vedantpramodwagh/Documents/DataGlacier/hg/POWERGRID_with_indicators_.csv',\n",
       " '/Users/vedantpramodwagh/Documents/DataGlacier/hg/BRITANNIA_with_indicators_.csv',\n",
       " '/Users/vedantpramodwagh/Documents/DataGlacier/hg/MCDOWELL-N_with_indicators_.csv',\n",
       " '/Users/vedantpramodwagh/Documents/DataGlacier/hg/NAUKRI_with_indicators_.csv',\n",
       " '/Users/vedantpramodwagh/Documents/DataGlacier/hg/GLAND_with_indicators_.csv',\n",
       " '/Users/vedantpramodwagh/Documents/DataGlacier/hg/AXISBANK_with_indicators_.csv',\n",
       " '/Users/vedantpramodwagh/Documents/DataGlacier/hg/ICICIBANK_with_indicators_.csv',\n",
       " '/Users/vedantpramodwagh/Documents/DataGlacier/hg/COALINDIA_with_indicators_.csv',\n",
       " '/Users/vedantpramodwagh/Documents/DataGlacier/hg/ADANIGREEN_with_indicators_.csv',\n",
       " '/Users/vedantpramodwagh/Documents/DataGlacier/hg/BOSCHLTD_with_indicators_.csv',\n",
       " '/Users/vedantpramodwagh/Documents/DataGlacier/hg/ADANIENT_with_indicators_.csv',\n",
       " '/Users/vedantpramodwagh/Documents/DataGlacier/hg/YESBANK_with_indicators_.csv',\n",
       " '/Users/vedantpramodwagh/Documents/DataGlacier/hg/TATACONSUM_with_indicators_.csv',\n",
       " '/Users/vedantpramodwagh/Documents/DataGlacier/hg/SUNPHARMA_with_indicators_.csv',\n",
       " '/Users/vedantpramodwagh/Documents/DataGlacier/hg/PIDILITIND_with_indicators_.csv',\n",
       " '/Users/vedantpramodwagh/Documents/DataGlacier/hg/PEL_with_indicators_.csv',\n",
       " '/Users/vedantpramodwagh/Documents/DataGlacier/hg/UPL_with_indicators_.csv',\n",
       " '/Users/vedantpramodwagh/Documents/DataGlacier/hg/HAVELLS_with_indicators_.csv',\n",
       " '/Users/vedantpramodwagh/Documents/DataGlacier/hg/NTPC_with_indicators_.csv',\n",
       " '/Users/vedantpramodwagh/Documents/DataGlacier/hg/BAJAJ-AUTO_with_indicators_.csv',\n",
       " '/Users/vedantpramodwagh/Documents/DataGlacier/hg/GODREJCP_with_indicators_.csv',\n",
       " '/Users/vedantpramodwagh/Documents/DataGlacier/hg/SBIN_with_indicators_.csv',\n",
       " '/Users/vedantpramodwagh/Documents/DataGlacier/hg/TCS_with_indicators_.csv',\n",
       " '/Users/vedantpramodwagh/Documents/DataGlacier/hg/TITAN_with_indicators_.csv',\n",
       " '/Users/vedantpramodwagh/Documents/DataGlacier/hg/DLF_with_indicators_.csv',\n",
       " '/Users/vedantpramodwagh/Documents/DataGlacier/hg/EICHERMOT_with_indicators_.csv',\n",
       " '/Users/vedantpramodwagh/Documents/DataGlacier/hg/GAIL_with_indicators_.csv',\n",
       " '/Users/vedantpramodwagh/Documents/DataGlacier/hg/RELIANCE_with_indicators_.csv',\n",
       " '/Users/vedantpramodwagh/Documents/DataGlacier/hg/DIVISLAB_with_indicators_.csv',\n",
       " '/Users/vedantpramodwagh/Documents/DataGlacier/hg/SBILIFE_with_indicators_.csv',\n",
       " '/Users/vedantpramodwagh/Documents/DataGlacier/hg/APOLLOHOSP_with_indicators_.csv',\n",
       " '/Users/vedantpramodwagh/Documents/DataGlacier/hg/PIIND_with_indicators_.csv',\n",
       " '/Users/vedantpramodwagh/Documents/DataGlacier/hg/DRREDDY_with_indicators_.csv',\n",
       " '/Users/vedantpramodwagh/Documents/DataGlacier/hg/CHOLAFIN_with_indicators_.csv',\n",
       " '/Users/vedantpramodwagh/Documents/DataGlacier/hg/JSWSTEEL_with_indicators_.csv',\n",
       " '/Users/vedantpramodwagh/Documents/DataGlacier/hg/HDFCLIFE_with_indicators_.csv',\n",
       " '/Users/vedantpramodwagh/Documents/DataGlacier/hg/ONGC_with_indicators_.csv',\n",
       " '/Users/vedantpramodwagh/Documents/DataGlacier/hg/HDFCAMC_with_indicators_.csv',\n",
       " '/Users/vedantpramodwagh/Documents/DataGlacier/hg/LT_with_indicators_.csv',\n",
       " '/Users/vedantpramodwagh/Documents/DataGlacier/hg/BAJAJHLDNG_with_indicators_.csv',\n",
       " '/Users/vedantpramodwagh/Documents/DataGlacier/hg/CIPLA_with_indicators_.csv',\n",
       " '/Users/vedantpramodwagh/Documents/DataGlacier/hg/INFY_with_indicators_.csv',\n",
       " '/Users/vedantpramodwagh/Documents/DataGlacier/hg/M_M_with_indicators_.csv',\n",
       " '/Users/vedantpramodwagh/Documents/DataGlacier/hg/HCLTECH_with_indicators_.csv',\n",
       " '/Users/vedantpramodwagh/Documents/DataGlacier/hg/PGHH_with_indicators_.csv',\n",
       " '/Users/vedantpramodwagh/Documents/DataGlacier/hg/MUTHOOTFIN_with_indicators_.csv',\n",
       " '/Users/vedantpramodwagh/Documents/DataGlacier/hg/BAJAJFINSV_with_indicators_.csv',\n",
       " '/Users/vedantpramodwagh/Documents/DataGlacier/hg/HINDUNILVR_with_indicators_.csv',\n",
       " '/Users/vedantpramodwagh/Documents/DataGlacier/hg/ICICIPRULI_with_indicators_.csv',\n",
       " '/Users/vedantpramodwagh/Documents/DataGlacier/hg/NMDC_with_indicators_.csv',\n",
       " '/Users/vedantpramodwagh/Documents/DataGlacier/hg/ULTRACEMCO_with_indicators_.csv',\n",
       " '/Users/vedantpramodwagh/Documents/DataGlacier/hg/BPCL_with_indicators_.csv']"
      ]
     },
     "execution_count": 9,
     "metadata": {},
     "output_type": "execute_result"
    }
   ],
   "source": [
    "import glob\n",
    "csv_files = glob.glob(os.path.join(directory,'*.csv'))\n",
    "csv_files"
   ]
  },
  {
   "cell_type": "code",
   "execution_count": 10,
   "id": "45744c5e-dd39-4eb6-8acd-4ea207830af9",
   "metadata": {},
   "outputs": [],
   "source": [
    "def clean_col_names(df):\n",
    "    df.columns = df.columns.str.strip().str.replace('[^a-zA-Z0-9_]', '', regex=True)\n",
    "    return df\n",
    "combined_df = clean_col_names(df_pandas)\n"
   ]
  },
  {
   "cell_type": "code",
   "execution_count": 11,
   "id": "a1787344-6a80-4ddb-9d95-dea8cd04b3b0",
   "metadata": {},
   "outputs": [],
   "source": [
    "import yaml"
   ]
  },
  {
   "cell_type": "code",
   "execution_count": 12,
   "id": "5c148b79-ae13-4dc8-87dd-37f2779625ce",
   "metadata": {},
   "outputs": [],
   "source": [
    "data_schema = {\n",
    "    'separator' : ';',\n",
    "    'Columns' : list(combined_df.columns)\n",
    "}"
   ]
  },
  {
   "cell_type": "code",
   "execution_count": 13,
   "id": "7edf5221-3497-4b00-8758-2bb44079c1ff",
   "metadata": {},
   "outputs": [
    {
     "data": {
      "text/plain": [
       "{'separator': ';',\n",
       " 'Columns': ['date',\n",
       "  'open',\n",
       "  'high',\n",
       "  'low',\n",
       "  'close',\n",
       "  'volume',\n",
       "  'sma5',\n",
       "  'sma10',\n",
       "  'sma15',\n",
       "  'sma20',\n",
       "  'ema5',\n",
       "  'ema10',\n",
       "  'ema15',\n",
       "  'ema20',\n",
       "  'upperband',\n",
       "  'middleband',\n",
       "  'lowerband',\n",
       "  'HT_TRENDLINE',\n",
       "  'KAMA10',\n",
       "  'KAMA20',\n",
       "  'KAMA30',\n",
       "  'SAR',\n",
       "  'TRIMA5',\n",
       "  'TRIMA10',\n",
       "  'TRIMA20',\n",
       "  'ADX5',\n",
       "  'ADX10',\n",
       "  'ADX20',\n",
       "  'APO',\n",
       "  'CCI5',\n",
       "  'CCI10',\n",
       "  'CCI15',\n",
       "  'macd510',\n",
       "  'macd520',\n",
       "  'macd1020',\n",
       "  'macd1520',\n",
       "  'macd1226',\n",
       "  'MOM10',\n",
       "  'MOM15',\n",
       "  'MOM20',\n",
       "  'ROC5',\n",
       "  'ROC10',\n",
       "  'ROC20',\n",
       "  'PPO',\n",
       "  'RSI14',\n",
       "  'RSI8',\n",
       "  'slowk',\n",
       "  'slowd',\n",
       "  'fastk',\n",
       "  'fastd',\n",
       "  'fastksr',\n",
       "  'fastdsr',\n",
       "  'ULTOSC',\n",
       "  'WILLR',\n",
       "  'ATR',\n",
       "  'Trange',\n",
       "  'TYPPRICE',\n",
       "  'HT_DCPERIOD',\n",
       "  'BETA']}"
      ]
     },
     "execution_count": 13,
     "metadata": {},
     "output_type": "execute_result"
    }
   ],
   "source": [
    "data_schema"
   ]
  },
  {
   "cell_type": "code",
   "execution_count": 14,
   "id": "09cd27d2-2a64-4cb8-80fe-128543df8cb0",
   "metadata": {},
   "outputs": [],
   "source": [
    "with open('data_schema.yaml','w') as file:\n",
    "    yaml.dump(data_schema, file)"
   ]
  },
  {
   "cell_type": "code",
   "execution_count": 15,
   "id": "cac311c8-3394-4ef2-90e2-1fc6da5a2ef2",
   "metadata": {},
   "outputs": [],
   "source": [
    "with open('data_schema.yaml','r') as file:\n",
    "    schema = yaml.safe_load(file)\n",
    "\n",
    "assert len(combined_df.columns) == len(schema['Columns']),\"Columns count mismatch\"\n",
    "assert all(combined_df.columns == schema['Columns']),\"Columns names mismatch\""
   ]
  },
  {
   "cell_type": "code",
   "execution_count": 16,
   "id": "86d2cd4e-a221-462c-85e6-959d86f7cef4",
   "metadata": {},
   "outputs": [],
   "source": [
    "combined_df.to_csv('combined_output.gz', sep = '|', index=False, compression = 'gzip')\n"
   ]
  },
  {
   "cell_type": "code",
   "execution_count": 17,
   "id": "97b714e6-de10-45b2-b1d9-15921a520e08",
   "metadata": {},
   "outputs": [
    {
     "name": "stdout",
     "output_type": "stream",
     "text": [
      "{'total_rows': 12518414, 'total_columns': 59, 'file_size': 5060117646}\n"
     ]
    }
   ],
   "source": [
    "summary = {\n",
    "    'total_rows' : len(combined_df),\n",
    "    'total_columns' : len(combined_df.columns),\n",
    "    'file_size' : os.path.getsize('combined_output.gz')\n",
    "}\n",
    "print(summary)\n",
    "    "
   ]
  },
  {
   "cell_type": "code",
   "execution_count": null,
   "id": "e0edf786-cfbc-4d54-9e98-4ce19409959b",
   "metadata": {},
   "outputs": [],
   "source": []
  }
 ],
 "metadata": {
  "kernelspec": {
   "display_name": "Python 3 (ipykernel)",
   "language": "python",
   "name": "python3"
  },
  "language_info": {
   "codemirror_mode": {
    "name": "ipython",
    "version": 3
   },
   "file_extension": ".py",
   "mimetype": "text/x-python",
   "name": "python",
   "nbconvert_exporter": "python",
   "pygments_lexer": "ipython3",
   "version": "3.11.7"
  }
 },
 "nbformat": 4,
 "nbformat_minor": 5
}
